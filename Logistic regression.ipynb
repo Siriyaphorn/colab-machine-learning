{
  "cells": [
    {
      "cell_type": "markdown",
      "metadata": {
        "id": "view-in-github",
        "colab_type": "text"
      },
      "source": [
        "<a href=\"https://colab.research.google.com/github/Siriyaphorn/colab-machine-learning/blob/main/Logistic%20regression.ipynb\" target=\"_parent\"><img src=\"https://colab.research.google.com/assets/colab-badge.svg\" alt=\"Open In Colab\"/></a>"
      ]
    },
    {
      "cell_type": "code",
      "source": [
        "import numpy as np\n",
        "import matplotlib.pyplot as plt\n",
        "from sklearn.linear_model import LogisticRegression"
      ],
      "metadata": {
        "id": "F_hLBt-F6eH5"
      },
      "execution_count": 1,
      "outputs": []
    },
    {
      "cell_type": "code",
      "source": [
        "## generate the data\n",
        "\n",
        "exam_outcome = [0,0,0,0,0,0,0,0,0,0,\n",
        "                1,1,1,1,1,1,1,1,1,1]\n",
        "study_hours = []\n",
        "sleep_hours =[]\n",
        "\n",
        "n = len(exam_outcome)\n",
        "\n",
        "# and plot\n",
        "for i in range(n):\n",
        "    plt.plot([exam_outcome[i]-.05,exam_outcome[i]+.05],[study_hours[i],sleep_hours[i]],color=[.7])"
      ],
      "metadata": {
        "id": "Pov5AfNyG9xI"
      },
      "execution_count": 2,
      "outputs": []
    },
    {
      "cell_type": "code",
      "source": [],
      "metadata": {
        "id": "55JbNbwtIkrW"
      },
      "execution_count": null,
      "outputs": []
    }
  ],
  "metadata": {
    "colab": {
      "name": "Making the Most of your Colab Subscription",
      "provenance": [],
      "include_colab_link": true
    },
    "kernelspec": {
      "display_name": "Python 3",
      "name": "python3"
    }
  },
  "nbformat": 4,
  "nbformat_minor": 0
}